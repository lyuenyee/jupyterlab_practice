{
 "cells": [
  {
   "cell_type": "markdown",
   "id": "d807b489-55e8-4cca-9761-bb2851e26bec",
   "metadata": {},
   "source": [
    "# Yuen Yee\n",
    "Notebook for assignment 7"
   ]
  },
  {
   "cell_type": "code",
   "execution_count": 1,
   "id": "cef4bad8-0b54-4a90-b29a-7482a1c3b15c",
   "metadata": {},
   "outputs": [
    {
     "data": {
      "text/plain": [
       "5.0"
      ]
     },
     "execution_count": 1,
     "metadata": {},
     "output_type": "execute_result"
    }
   ],
   "source": [
    "list = []\n",
    "\n",
    "def compute_mean(list):\n",
    "    mean = sum(list) / len(list)\n",
    "    return mean\n",
    "\n",
    "compute_mean([2,4,6,8])"
   ]
  },
  {
   "cell_type": "markdown",
   "id": "48452e9f-3efa-41ca-8590-c17d375a666c",
   "metadata": {},
   "source": [
    "This function called \"compute_mean\" calculates the mean of the values in the list by taking the sum of the list values divided by the number of values in the list and stores this mean value into the object \"mean\". The object \"mean\" is then printed.\n",
    "\n",
    "$\\bar{x}$ = $\\frac{x_1 + x_2 + ... + x_n}{n}$ = $\\frac{1}{n}\\left(\\sum_{i=1}^{n} x_i \\right)$"
   ]
  }
 ],
 "metadata": {
  "kernelspec": {
   "display_name": "Python [conda env:miniconda3]",
   "language": "python",
   "name": "conda-env-miniconda3-py"
  },
  "language_info": {
   "codemirror_mode": {
    "name": "ipython",
    "version": 3
   },
   "file_extension": ".py",
   "mimetype": "text/x-python",
   "name": "python",
   "nbconvert_exporter": "python",
   "pygments_lexer": "ipython3",
   "version": "3.12.2"
  }
 },
 "nbformat": 4,
 "nbformat_minor": 5
}
